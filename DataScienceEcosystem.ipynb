{
 "cells": [
  {
   "cell_type": "markdown",
   "id": "bd49c3bf-08d1-4a1a-a54f-9b4a29de2b4b",
   "metadata": {},
   "source": [
    "# Ecosistema y herramientas de ciencia de datos"
   ]
  },
  {
   "cell_type": "markdown",
   "id": "335d3244-1de8-43c1-808b-42f79eb926e3",
   "metadata": {},
   "source": [
    "En este cuaderno se resumen las herramientas y el ecosistema de ciencia de datos."
   ]
  },
  {
   "cell_type": "markdown",
   "id": "0283e5db-94a1-4ad1-bf29-a69ccd289e18",
   "metadata": {},
   "source": [
    "Alguno de los lenguajes populares que utilizan los cientificos de datos son:\n",
    "1. Python\n",
    "2. R\n",
    "3. SQL"
   ]
  },
  {
   "cell_type": "markdown",
   "id": "7bcc3fca-7900-4c24-ab9c-d77dc63db677",
   "metadata": {},
   "source": [
    "Algunas de las bibliotecas comúnmente utilizadas por los cientificos de datos incluyen:\n",
    "1. Pandas\n",
    "2. NumPy\n",
    "3. Matplotlib"
   ]
  },
  {
   "cell_type": "markdown",
   "id": "24ca7018-6098-4206-9847-8b75230f890a",
   "metadata": {},
   "source": [
    "| Herramientas de ciencia de datos |\n",
    "|---------------------------------|\n",
    "| Jupyter Notebook                |\n",
    "| RStudio                         |\n",
    "| Apache Zeppelin                 |\n"
   ]
  },
  {
   "cell_type": "markdown",
   "id": "80f8dd33-87ba-4b68-82db-5ce24b01ef0e",
   "metadata": {},
   "source": [
    "### A continuación se muestran algunos ejemplos de evaluación de expresiones aritméticas en Python.\n",
    "\n",
    "- `10 + 3` resulta en `13`\n",
    "- `10 - 3` resulta en `7`\n",
    "- `10 * 3` resulta en `30`\n",
    "- `10 / 3` resulta en aproximadamente `3.33`"
   ]
  },
  {
   "cell_type": "code",
   "execution_count": 1,
   "id": "0dcc48ea-2df4-4ba0-b58e-f2319accd655",
   "metadata": {
    "tags": []
   },
   "outputs": [
    {
     "data": {
      "text/plain": [
       "17"
      ]
     },
     "execution_count": 1,
     "metadata": {},
     "output_type": "execute_result"
    }
   ],
   "source": [
    "# Esta es una expresión aritmética simple para multiplicar y luego sumar números enteros\n",
    "(3 * 4) + 5\n"
   ]
  },
  {
   "cell_type": "code",
   "execution_count": 2,
   "id": "1165b965-62c6-46fb-a007-8279406344b4",
   "metadata": {
    "tags": []
   },
   "outputs": [
    {
     "data": {
      "text/plain": [
       "3.3333333333333335"
      ]
     },
     "execution_count": 2,
     "metadata": {},
     "output_type": "execute_result"
    }
   ],
   "source": [
    "# Esto convertirá 200 minutos en horas dividiendo por 60\n",
    "200 / 60"
   ]
  },
  {
   "cell_type": "markdown",
   "id": "c9573c89-9124-4903-8001-af2671151f6b",
   "metadata": {},
   "source": [
    "**Objetivos:**\n",
    "- Listar lenguajes populares para ciencia de datos.\n",
    "- Describir bibliotecas clave utilizadas en análisis de datos.\n",
    "- Explicar métodos para visualizar datos.\n",
    "- Demostrar operaciones básicas de cálculos en Python.\n"
   ]
  },
  {
   "cell_type": "markdown",
   "id": "8d0927f9-47b2-44ba-914e-79122b816fa5",
   "metadata": {},
   "source": [
    "## Autor\n",
    "Zusel Nicoll Vega Condor"
   ]
  }
 ],
 "metadata": {
  "kernelspec": {
   "display_name": "Python",
   "language": "python",
   "name": "conda-env-python-py"
  },
  "language_info": {
   "codemirror_mode": {
    "name": "ipython",
    "version": 3
   },
   "file_extension": ".py",
   "mimetype": "text/x-python",
   "name": "python",
   "nbconvert_exporter": "python",
   "pygments_lexer": "ipython3",
   "version": "3.7.12"
  }
 },
 "nbformat": 4,
 "nbformat_minor": 5
}
